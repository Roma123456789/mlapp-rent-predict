{
 "cells": [
  {
   "cell_type": "code",
   "execution_count": 1,
   "id": "ec8d08ab-dc84-4b21-ac99-5794bf255988",
   "metadata": {},
   "outputs": [
    {
     "name": "stderr",
     "output_type": "stream",
     "text": [
      "C:\\Python312\\Lib\\site-packages\\kfp\\dsl\\component_decorator.py:119: FutureWarning: The default base_image used by the @dsl.component decorator will switch from 'python:3.8' to 'python:3.9' on Oct 1, 2024. To ensure your existing components work with versions of the KFP SDK released after that date, you should provide an explicit base_image argument and ensure your component works as intended on Python 3.9.\n",
      "  return component_factory.create_component_from_func(\n"
     ]
    }
   ],
   "source": [
    "from kfp import dsl\n",
    "from kfp import compiler\n",
    "\n",
    "@dsl.component(packages_to_install=['numpy', 'pandas', 'joblib', 'scikit-learn'])\n",
    "def modeldevelopment() -> float:\n",
    "    # Your model code here\n",
    "     # Importing Libraries\n",
    "    import pandas as pd\n",
    "    import numpy as np\n",
    "    import joblib\n",
    "    from flask import Flask, render_template, request\n",
    "    from sklearn.linear_model import LinearRegression\n",
    "    from sklearn.model_selection import train_test_split\n",
    "    from sklearn.metrics import mean_squared_error\n",
    "    \n",
    "    # Load and process the data\n",
    "    rentalDF = pd.read_csv('data/rental_1000.csv')\n",
    "    \n",
    "    # Data Transformation (Feature Engineering - Use Features for Model Development)\n",
    "    X = rentalDF[['rooms', 'sqft']].values   # Features \n",
    "    y = rentalDF['price'].values             # Label\n",
    "    \n",
    "    # Split Data into Training and Testing \n",
    "    X_train, X_test, y_train, y_test = train_test_split(X, y, test_size=0.20)\n",
    "    \n",
    "    # Model Training\n",
    "    model = LinearRegression().fit(X_train, y_train)\n",
    "\n",
    "    # Save the Model\n",
    "    joblib.dump(model, 'model/rental_price_model.joblib')\n",
    "    # Load the Model\n",
    "    model = joblib.load('model/rental_price_model.joblib')\n",
    "    \n",
    "    # Initialize Flask application\n",
    "    app = Flask(__name__)\n",
    "    \n",
    "    @app.route('/')\n",
    "    def home():\n",
    "        return render_template('index.html')\n",
    "    \n",
    "    @app.route('/predict', methods=['POST'])\n",
    "    def predict():\n",
    "        rooms = int(request.form['rooms'])\n",
    "        sqft = int(request.form['sqft'])\n",
    "    \n",
    "        # Make the prediction\n",
    "        prediction = model.predict(np.array([[rooms, sqft]]))\n",
    "        \n",
    "        return render_template('result.html', prediction=prediction[0])\n",
    "    \n",
    "    if __name__ == \"__main__\":\n",
    "        app.run(debug=True, host=\"0.0.0.0\")\n",
    "\n",
    "    # Compute RMSE (optional)\n",
    "    # y_pred = model.predict(X_test)\n",
    "    # rmse = np.sqrt(mean_squared_error(y_test, y_pred))\n",
    "    # print(f\"RMSE: {rmse}\")\n",
    "    \n",
    "    # Example prediction for a specific test sample\n",
    "    # sample_index = 0  # Change this index to test different samples\n",
    "    # predict_rental_price = model.predict([X_test[sample_index]])[0]\n",
    "    # print(f\"The Real Rental Price for Rooms count={X_test[sample_index][0]} and Area in Sqft={X_test[sample_index][1]} is={y_test[sample_index]}\")\n",
    "    # print(f\"The Predicted Rental Price for Rooms count={X_test[sample_index][0]} and Area in Sqft={X_test[sample_index][1]} is={predict_rental_price}\")\n",
    "    \n",
    "    # Compute RMSE\n",
    "    # rmse = np.sqrt(mean_squared_error(y_test, y_pred))\n",
    "    # print(f\"RMSE: {rmse}\")\n",
    "        \n",
    "\n",
    "@dsl.pipeline\n",
    "def rental_prediction_pipeline() -> float:\n",
    "    task = modeldevelopment()\n",
    "    return task.output\n",
    "\n",
    "compiler.Compiler().compile(rental_prediction_pipeline, 'rental_prediction_pipeline.yaml')\n",
    "\n"
   ]
  },
  {
   "cell_type": "code",
   "execution_count": null,
   "id": "139141b5-b99e-47bd-8db9-f530738c4380",
   "metadata": {},
   "outputs": [],
   "source": []
  }
 ],
 "metadata": {
  "kernelspec": {
   "display_name": "Python 3 (ipykernel)",
   "language": "python",
   "name": "python3"
  },
  "language_info": {
   "codemirror_mode": {
    "name": "ipython",
    "version": 3
   },
   "file_extension": ".py",
   "mimetype": "text/x-python",
   "name": "python",
   "nbconvert_exporter": "python",
   "pygments_lexer": "ipython3",
   "version": "3.12.2"
  }
 },
 "nbformat": 4,
 "nbformat_minor": 5
}
